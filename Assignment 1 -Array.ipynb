{
 "cells": [
  {
   "cell_type": "code",
   "execution_count": null,
   "id": "1003756e",
   "metadata": {},
   "outputs": [],
   "source": [
    "#**Q1.** Given an array of integers nums and an integer target, return indices of the two numbers such that they add up to target.\n",
    "\n",
    "#You may assume that each input would have exactly one solution, and you may not use the same element twice.\n",
    "\n",
    "#You can return the answer in any order."
   ]
  },
  {
   "cell_type": "code",
   "execution_count": null,
   "id": "35c0491a",
   "metadata": {},
   "outputs": [],
   "source": [
    "#Step-by-Step algorithm:\n",
    "#1.Initialize an empty hash table.\n",
    "\n",
    "#2.Iterate through the array nums from left to right, and for each element num, do the following:\n",
    "#Calculate the complement complement = target - num.\n",
    "#Check if the complement exists in the hash table. \n",
    "#If it does, return the indices of num and its complement.\n",
    "#Otherwise, add the current element num as a key to the hash table with its index as the value.\n",
    "#If no solution is found after iterating through the entire array, return an empty list  \n",
    "    \n",
    "\n"
   ]
  },
  {
   "cell_type": "code",
   "execution_count": 5,
   "id": "58accb2b",
   "metadata": {},
   "outputs": [],
   "source": [
    "def twoSum(nums, target):\n",
    "    num_dict = {}\n",
    "    for i, num in enumerate(nums):\n",
    "        complement = target - num\n",
    "        if complement in num_dict:\n",
    "            return [num_dict[complement], i]\n",
    "        num_dict[num] = i\n",
    "    return []\n"
   ]
  },
  {
   "cell_type": "code",
   "execution_count": 4,
   "id": "083c795f",
   "metadata": {},
   "outputs": [
    {
     "name": "stdout",
     "output_type": "stream",
     "text": [
      "[0, 1]\n"
     ]
    }
   ],
   "source": [
    "nums = [2, 7, 11, 15]\n",
    "target = 9\n",
    "\n",
    "result = twoSum(nums, target)\n",
    "print(result) \n"
   ]
  },
  {
   "cell_type": "code",
   "execution_count": 7,
   "id": "c0baef56",
   "metadata": {},
   "outputs": [],
   "source": [
    "# **Q2.** Given an integer array nums and an integer val, remove all occurrences of val in nums in-place. The order of the elements may be changed. Then return the number of elements in nums which are not equal to val.\n",
    "\n",
    "#Consider the number of elements in nums which are not equal to val be k, to get accepted, you need to do the following things:\n",
    "\n",
    "#- Change the array nums such that the first k elements of nums contain the elements which are not equal to val. The remaining elements of nums are not important as well as the size of nums.\n",
    "#- Return k.\n",
    "\n",
    "#**Example :**\n",
    "#Input: nums = [3,2,2,3], val = 3\n",
    "#Output: 2, nums = [2,2,_*,_*]\n",
    "\n",
    "#**Explanation:** Your function should return k = 2, with the first two elements of nums being 2. It does not matter what you leave beyond the returned k (hence they are underscores"
   ]
  },
  {
   "cell_type": "code",
   "execution_count": null,
   "id": "f46f3065",
   "metadata": {},
   "outputs": [],
   "source": [
    "#Algorithm:\n",
    "\n",
    "#Initialize two pointers, i and j, to 0. Pointer i will be used to iterate through the array, and pointer j will point to the next position where a non-val element should be placed.\n",
    "\n",
    "#Iterate through the array nums using pointer i, and for each element nums[i], do the following:\n",
    "    \n",
    "#If nums[i] is not equal to val, assign nums[i] to nums[j] and increment j by 1.\n",
    "\n",
    "#After iterating through the entire array, the elements before index j (from 0 to j-1) will contain the elements that are not equal to val.\n",
    "\n",
    "#Return the value of j as the number of elements in nums that are not equal to val"
   ]
  },
  {
   "cell_type": "code",
   "execution_count": 8,
   "id": "ad0138f5",
   "metadata": {},
   "outputs": [
    {
     "name": "stdout",
     "output_type": "stream",
     "text": [
      "2\n",
      "[2, 2, 2, 3]\n"
     ]
    }
   ],
   "source": [
    "def removeElement(nums, val):\n",
    "    j = 0  \n",
    "\n",
    "    for i in range(len(nums)):\n",
    "        if nums[i] != val:\n",
    "            nums[j] = nums[i]\n",
    "            j += 1\n",
    "\n",
    "    return j\n",
    "nums = [3, 2, 2, 3]\n",
    "val = 3\n",
    "\n",
    "result = removeElement(nums, val)\n",
    "print(result)  # Output: 2\n",
    "print(nums)    # Output: [2, 2, ...]\n"
   ]
  },
  {
   "cell_type": "code",
   "execution_count": null,
   "id": "208e1249",
   "metadata": {},
   "outputs": [],
   "source": [
    "#**Q3.** Given a sorted array of distinct integers and a target value, return the index if the target is found. If not, return the index where it would be if it were inserted in order.\n",
    "\n",
    "#You must write an algorithm with O(log n) runtime complexity.\n",
    "\n",
    "#**Example 1:**\n",
    "#Input: nums = [1,3,5,6], target = 5\n",
    "\n",
    "#Output: 2"
   ]
  },
  {
   "cell_type": "code",
   "execution_count": null,
   "id": "c735cd29",
   "metadata": {},
   "outputs": [],
   "source": [
    "#Algorithm:\n",
    "\n",
    "#Initialize two pointers, left and right, pointing to the start and end of the array, respectively.\n",
    "#While left is less than or equal to right, do the following:\n",
    "#Calculate the middle index as mid = (left + right) // 2.\n",
    "#If the element at index mid is equal to the target, return mid.\n",
    "#If the element at index mid is greater than the target, update right = mid - 1.\n",
    "#If the element at index mid is less than the target, update left = mid + 1.\n",
    "#If the target is not found in the array, the left pointer will be pointing to the index where the target should be inserted to maintain the sorted order.\n",
    "#Return the value of left as the index where the target would be inserted.\n"
   ]
  },
  {
   "cell_type": "code",
   "execution_count": 9,
   "id": "0218130f",
   "metadata": {},
   "outputs": [
    {
     "name": "stdout",
     "output_type": "stream",
     "text": [
      "2\n"
     ]
    }
   ],
   "source": [
    "def searchInsert(nums, target):\n",
    "    left, right = 0, len(nums) - 1\n",
    "\n",
    "    while left <= right:\n",
    "        mid = (left + right) // 2\n",
    "        if nums[mid] == target:\n",
    "            return mid\n",
    "        elif nums[mid] < target:\n",
    "            left = mid + 1\n",
    "        else:\n",
    "            right = mid - 1\n",
    "\n",
    "    return left\n",
    "nums = [1, 3, 5, 6]\n",
    "target = 5\n",
    "\n",
    "result = searchInsert(nums, target)\n",
    "print(result)  # Output: 2\n"
   ]
  },
  {
   "cell_type": "code",
   "execution_count": null,
   "id": "25753afe",
   "metadata": {},
   "outputs": [],
   "source": [
    "#You are given a large integer represented as an integer array digits, where each digits[i] is the ith digit of the integer. The digits are ordered from most significant to least significant in left-to-right order. The large integer does not contain any leading 0's.\n",
    "\n",
    "#Increment the large integer by one and return the resulting array of digits.\n",
    "\n",
    "#**Example 1:**\n",
    "#Input: digits = [1,2,3]\n",
    "#Output: [1,2,4]\n",
    "\n",
    "#**Explanation:** The array represents the integer 123.\n",
    "\n",
    "#Incrementing by one gives 123 + 1 = 124.\n",
    "#Thus, the result should be [1,2,4]"
   ]
  },
  {
   "cell_type": "code",
   "execution_count": null,
   "id": "6e2b7b9f",
   "metadata": {},
   "outputs": [],
   "source": [
    "#Algorithm:\n",
    "\n",
    "#Initialize a carry variable to 1, as we want to increment the large integer by one.\n",
    "#Iterate through the array digits in reverse order, starting from the last digit.\n",
    "#Add the carry to the current digit.\n",
    "#If the sum is less than 10, update the current digit to the sum and set the carry to 0, as there is no need to carry over.\n",
    "#If the sum is 10 or greater, update the current digit to the remainder of the sum divided by 10 (sum % 10) and set the carry to 1, as we need to carry over to the next digit.\n",
    "#After the iteration, if the carry is still 1, it means we need to add an additional digit with a value of 1 at the most significant position.\n",
    "#Reverse the modified array digits to restore the original order.\n",
    "#Return the resulting array."
   ]
  },
  {
   "cell_type": "code",
   "execution_count": 10,
   "id": "843e8ec5",
   "metadata": {},
   "outputs": [
    {
     "name": "stdout",
     "output_type": "stream",
     "text": [
      "[1, 2, 4]\n"
     ]
    }
   ],
   "source": [
    "def plusOne(digits):\n",
    "    carry = 1\n",
    "\n",
    "    for i in range(len(digits)-1, -1, -1):\n",
    "        digits[i] += carry\n",
    "        if digits[i] < 10:\n",
    "            carry = 0\n",
    "            break\n",
    "        else:\n",
    "            digits[i] %= 10\n",
    "\n",
    "    if carry == 1:\n",
    "        digits.insert(0, 1)\n",
    "\n",
    "    return digits\n",
    "digits = [1, 2, 3]\n",
    "\n",
    "result = plusOne(digits)\n",
    "print(result)  # Output: [1, 2, 4]\n"
   ]
  },
  {
   "cell_type": "code",
   "execution_count": null,
   "id": "b32fefe9",
   "metadata": {},
   "outputs": [],
   "source": [
    "#**Q5.** You are given two integer arrays nums1 and nums2, sorted in non-decreasing order, and two integers m and n, representing the number of elements in nums1 and nums2 respectively.\n",
    "\n",
    "#Merge nums1 and nums2 into a single array sorted in non-decreasing order.\n",
    "\n",
    "#The final sorted array should not be returned by the function, but instead be stored inside the array nums1. To accommodate this, nums1 has a length of m + n, where the first m elements denote the elements that should be merged, and the last n elements are set to 0 and should be ignored. nums2 has a length of n.\n",
    "\n",
    "#**Example 1:**\n",
    "#Input: nums1 = [1,2,3,0,0,0], m = 3, nums2 = [2,5,6], n = 3\n",
    "#Output: [1,2,2,3,5,6]\n",
    "\n",
    "#**Explanation:** The arrays we are merging are [1,2,3] and [2,5,6].\n",
    "#The result of the merge is [1,2,2,3,5,6] with the underlined elements coming from nums1.#\n",
    "\n"
   ]
  },
  {
   "cell_type": "code",
   "execution_count": null,
   "id": "b6b41e1a",
   "metadata": {},
   "outputs": [],
   "source": [
    "#Algorithm:\n",
    "\n",
    "#Initialize three pointers:\n",
    "    \n",
    "#p1 to track the current position in nums1, starting from index m - 1 (the last non-zero element in nums1).\n",
    "#p2 to track the current position in nums2, starting from index n - 1.\n",
    "#p to track the current position in the merged array (index m + n - 1).\n",
    "\n",
    "#While both p1 and p2 are greater than or equal to 0, do the following:\n",
    "\n",
    "#If nums1[p1] is greater than nums2[p2], assign nums1[p1] to nums1[p] and decrement p1 and p by 1.\n",
    "Otherwise, assign nums2[p2] to nums1[p] and decrement p2 and p by 1.\n",
    "If there are remaining elements in nums2 (i.e., p2 is still greater than or equal to 0), copy them to the beginning of nums1 up to index p.\n",
    "Return nums1 with the merged and sorted elements."
   ]
  },
  {
   "cell_type": "code",
   "execution_count": 11,
   "id": "e2ed1169",
   "metadata": {},
   "outputs": [
    {
     "name": "stdout",
     "output_type": "stream",
     "text": [
      "[1, 2, 2, 3, 5, 6]\n"
     ]
    }
   ],
   "source": [
    "def merge(nums1, m, nums2, n):\n",
    "    p1 = m - 1\n",
    "    p2 = n - 1\n",
    "    p = m + n - 1\n",
    "\n",
    "    while p1 >= 0 and p2 >= 0:\n",
    "        if nums1[p1] > nums2[p2]:\n",
    "            nums1[p] = nums1[p1]\n",
    "            p1 -= 1\n",
    "        else:\n",
    "            nums1[p] = nums2[p2]\n",
    "            p2 -= 1\n",
    "        p -= 1\n",
    "\n",
    "    nums1[:p2 + 1] = nums2[:p2 + 1]\n",
    "\n",
    "    return nums1\n",
    "nums1 = [1, 2, 3, 0, 0, 0]\n",
    "m = 3\n",
    "nums2 = [2, 5, 6]\n",
    "n = 3\n",
    "\n",
    "result = merge(nums1, m, nums2, n)\n",
    "print(result)  # Output: [1, 2, 2, 3, 5, 6]\n"
   ]
  },
  {
   "cell_type": "code",
   "execution_count": null,
   "id": "446065bc",
   "metadata": {},
   "outputs": [],
   "source": [
    "#**Q6.** Given an integer array nums, return true if any value appears at least twice in the array, and return false if every element is distinct.\n",
    "\n",
    "#**Example 1:**\n",
    "#Input: nums = [1,2,3,1]\n",
    "\n",
    "#Output: true\n"
   ]
  },
  {
   "cell_type": "code",
   "execution_count": null,
   "id": "2c55d8db",
   "metadata": {},
   "outputs": [],
   "source": [
    "#Algorithm:\n",
    "\n",
    "#Initialize an empty set called seen.\n",
    "#Iterate through the array nums, and for each element num, do the following:\n",
    "#If num is already present in the set seen, return True as we have found a duplicate.\n",
    "#Otherwise, add num to the set seen.\n",
    "#If the iteration completes without finding any duplicates, return False as all elements in the array are distinct"
   ]
  },
  {
   "cell_type": "code",
   "execution_count": 12,
   "id": "811424af",
   "metadata": {},
   "outputs": [
    {
     "name": "stdout",
     "output_type": "stream",
     "text": [
      "True\n"
     ]
    }
   ],
   "source": [
    "def containsDuplicate(nums):\n",
    "    seen = set()\n",
    "\n",
    "    for num in nums:\n",
    "        if num in seen:\n",
    "            return True\n",
    "        seen.add(num)\n",
    "\n",
    "    return False\n",
    "nums = [1, 2, 3, 1]\n",
    "\n",
    "result = containsDuplicate(nums)\n",
    "print(result)  # Output: True\n"
   ]
  },
  {
   "cell_type": "code",
   "execution_count": null,
   "id": "d6658604",
   "metadata": {},
   "outputs": [],
   "source": [
    "#**Q7.** Given an integer array nums, move all 0's to the end of it while maintaining the relative order of the nonzero elements.\n",
    "\n",
    "#Note that you must do this in-place without making a copy of the array.\n",
    "\n",
    "#**Example 1:**\n",
    "#Input: nums = [0,1,0,3,12]\n",
    "#Output: [1,3,12,0,0]\n",
    "\n"
   ]
  },
  {
   "cell_type": "code",
   "execution_count": null,
   "id": "b174a1e0",
   "metadata": {},
   "outputs": [],
   "source": [
    "#Algorithm:\n",
    "\n",
    "#Initialize two pointers, nonZeroIdx and currIdx, both pointing to 0.\n",
    "#Iterate through the array nums using the currIdx pointer, and for each element num, do the following:\n",
    "#If num is not equal to 0, assign num to nums[nonZeroIdx] and increment nonZeroIdx by 1.\n",
    "#After the iteration, all nonzero elements will be placed at the beginning of the array, up to index nonZeroIdx - 1.\n",
    "#Starting from index nonZeroIdx, iterate through the array using the currIdx pointer, and for each element num, do the following:\n",
    "#Assign 0 to nums[currIdx].\n",
    "#Increment currIdx by 1.\n",
    "#At this point, all the zeros will be placed at the end of the array.\n",
    "#The array nums now contains all zeros at the end while maintaining the relative order of the nonzero elements."
   ]
  },
  {
   "cell_type": "code",
   "execution_count": 13,
   "id": "f64a1d08",
   "metadata": {},
   "outputs": [
    {
     "name": "stdout",
     "output_type": "stream",
     "text": [
      "[1, 3, 12, 0, 0]\n"
     ]
    }
   ],
   "source": [
    "def moveZeroes(nums):\n",
    "    nonZeroIdx = 0\n",
    "\n",
    "    for currIdx in range(len(nums)):\n",
    "        if nums[currIdx] != 0:\n",
    "            nums[nonZeroIdx] = nums[currIdx]\n",
    "            nonZeroIdx += 1\n",
    "\n",
    "    while nonZeroIdx < len(nums):\n",
    "        nums[nonZeroIdx] = 0\n",
    "        nonZeroIdx += 1\n",
    "nums = [0, 1, 0, 3, 12]\n",
    "\n",
    "moveZeroes(nums)\n",
    "print(nums)  # Output: [1, 3, 12, 0, 0]\n"
   ]
  },
  {
   "cell_type": "code",
   "execution_count": null,
   "id": "3ceec24e",
   "metadata": {},
   "outputs": [],
   "source": [
    "# **Q8.** You have a set of integers s, which originally contains all the numbers from 1 to n. Unfortunately, due to some error, one of the numbers in s got duplicated to another number in the set, which results in repetition of one number and loss of another number.\n",
    "\n",
    "#You are given an integer array nums representing the data status of this set after the error.\n",
    "\n",
    "#Find the number that occurs twice and the number that is missing and return them in the form of an array.\n",
    "\n",
    "#**Example 1:**\n",
    "#Input: nums = [1,2,2,4]\n",
    "#Output: [2,3]\n"
   ]
  },
  {
   "cell_type": "code",
   "execution_count": null,
   "id": "3b523dc8",
   "metadata": {},
   "outputs": [],
   "source": [
    "#Algorithm:\n",
    "\n",
    "#Initialize a variable xor to 0. This variable will be used to perform XOR operation on all elements of nums and the numbers from 1 to n.\n",
    "#Iterate through the array nums, and for each element num, do the following:\n",
    "#Perform XOR operation between xor and num.\n",
    "#Perform XOR operation between xor and the index of num in nums.\n",
    "#This step will result in xor containing the XOR of all the elements in nums and the numbers from 1 to n.\n",
    "#Find the rightmost set bit (1) in xor. We can use xor & -xor to extract the rightmost set bit.\n",
    "#Initialize two variables, missing and duplicate, to 0.\n",
    "#Iterate through the numbers from 1 to n, and for each number i, do the following:\n",
    "#Perform XOR operation between xor and i.\n",
    "#If i is present in nums, perform XOR operation between missing and i.\n",
    "#Otherwise, perform XOR operation between missing and i.\n",
    "#This step will result in missing containing the missing number, as all the XOR operations will cancel out except for the missing number XORed with itself.\n",
    "#This step will also result in duplicate containing the duplicate number, as all the XOR operations will cancel out except for the duplicate number XORed with itself.\n",
    "#Return an array containing duplicate a"
   ]
  },
  {
   "cell_type": "code",
   "execution_count": 16,
   "id": "c94fd5f0",
   "metadata": {},
   "outputs": [
    {
     "name": "stdout",
     "output_type": "stream",
     "text": [
      "[2, 1]\n"
     ]
    }
   ],
   "source": [
    "def findErrorNums(nums):\n",
    "    seen = set()\n",
    "    duplicate = 0\n",
    "    missing = 0\n",
    "\n",
    "    for num in nums:\n",
    "        if num in seen:\n",
    "            duplicate = num\n",
    "        seen.add(num)\n",
    "\n",
    "    expected_sum = sum(range(1, len(nums) + 1))\n",
    "    actual_sum = sum(nums)\n",
    "    missing = expected_sum - actual_sum\n",
    "\n",
    "    return [duplicate, missing]\n",
    "nums = [1, 2, 2, 4]\n",
    "result = findErrorNums(nums)\n",
    "print(result)  \n"
   ]
  },
  {
   "cell_type": "code",
   "execution_count": null,
   "id": "3cec1bfb",
   "metadata": {},
   "outputs": [],
   "source": []
  }
 ],
 "metadata": {
  "kernelspec": {
   "display_name": "Python 3 (ipykernel)",
   "language": "python",
   "name": "python3"
  },
  "language_info": {
   "codemirror_mode": {
    "name": "ipython",
    "version": 3
   },
   "file_extension": ".py",
   "mimetype": "text/x-python",
   "name": "python",
   "nbconvert_exporter": "python",
   "pygments_lexer": "ipython3",
   "version": "3.9.13"
  }
 },
 "nbformat": 4,
 "nbformat_minor": 5
}
